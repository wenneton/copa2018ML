{
 "cells": [
  {
   "cell_type": "markdown",
   "metadata": {},
   "source": [
    "# Pré-processamento e Testes Dataset Copa\n",
    "\n",
    "O dataset aqui utilizado foi retirado do [FIFA World Men's Ranking](https://www.fifa.com/fifa-world-ranking/ranking-table/men/index.html). Pretende-se utilizar a posição no ranking de determinada seleção nos 5 meses anteriores à Copa do Mundo e a sua classificação nos anos de 2002, 2006, 2010 e 2014 para prever a classificação na Copa do Mundo de 2018."
   ]
  },
  {
   "cell_type": "code",
   "execution_count": 34,
   "metadata": {},
   "outputs": [],
   "source": [
    "#imports\n",
    "import pandas as pd\n",
    "import numpy as np\n",
    "from sklearn.preprocessing import StandardScaler\n",
    "from sklearn.linear_model import LogisticRegression\n",
    "from sklearn.model_selection import StratifiedShuffleSplit\n",
    "from sklearn.metrics import accuracy_score\n",
    "from sklearn.linear_model import LogisticRegression\n",
    "from sklearn.svm import SVC\n",
    "from sklearn.neural_network import MLPClassifier\n",
    "from sklearn.ensemble import BaggingClassifier\n",
    "from sklearn.model_selection import cross_val_score\n",
    "from sklearn.model_selection import GridSearchCV\n",
    "from sklearn.metrics import f1_score"
   ]
  },
  {
   "cell_type": "code",
   "execution_count": 330,
   "metadata": {},
   "outputs": [],
   "source": [
    "#abrindo o dataset de treino\n",
    "df_total = pd.read_csv(\"dataset_rank_fifa.csv\")\n",
    "df_pred = df_total.drop(['country','year','classification'], axis=1)"
   ]
  },
  {
   "cell_type": "markdown",
   "metadata": {},
   "source": [
    "## Pré-processamento\n",
    "### Separando o dataset em anos\n",
    "\n",
    "Vamos separar o dataset em anos para então aplicar o `StandardScaler`, já que alguns anos possui uma média de valores no ranking diferente dos outros. Após feito isso, juntamos os datasets separados em `new_df`."
   ]
  },
  {
   "cell_type": "code",
   "execution_count": 331,
   "metadata": {},
   "outputs": [],
   "source": [
    "df_2002 = df_pred.loc[df_total['year'] == 2002]\n",
    "df_2006 = df_pred.loc[df_total['year'] == 2006]\n",
    "df_2010 = df_pred.loc[df_total['year'] == 2010]\n",
    "df_2014 = df_pred.loc[df_total['year'] == 2014]"
   ]
  },
  {
   "cell_type": "code",
   "execution_count": 332,
   "metadata": {},
   "outputs": [],
   "source": [
    "df_2002 = pd.DataFrame(StandardScaler().fit_transform(df_2002), index=df_2002.index, columns=df_2002.columns)\n",
    "df_2006 = pd.DataFrame(StandardScaler().fit_transform(df_2006), index=df_2006.index, columns=df_2006.columns)\n",
    "df_2010 = pd.DataFrame(StandardScaler().fit_transform(df_2010), index=df_2010.index, columns=df_2010.columns)\n",
    "df_2014 = pd.DataFrame(StandardScaler().fit_transform(df_2014), index=df_2014.index, columns=df_2014.columns)"
   ]
  },
  {
   "cell_type": "code",
   "execution_count": 333,
   "metadata": {},
   "outputs": [],
   "source": [
    "#separando os dados em X e Y para treino posterior\n",
    "X = pd.concat([df_2002,df_2006,df_2010,df_2014]) \n",
    "y = df_total['classification'].astype(int)"
   ]
  },
  {
   "cell_type": "code",
   "execution_count": 334,
   "metadata": {},
   "outputs": [],
   "source": [
    "new_df = X\n",
    "new_df['classification'] = df_total['classification']"
   ]
  },
  {
   "cell_type": "code",
   "execution_count": 335,
   "metadata": {},
   "outputs": [
    {
     "data": {
      "text/plain": [
       "0    112\n",
       "4      4\n",
       "3      4\n",
       "2      4\n",
       "1      4\n",
       "Name: classification, dtype: int64"
      ]
     },
     "execution_count": 335,
     "metadata": {},
     "output_type": "execute_result"
    }
   ],
   "source": [
    "new_df.classification.value_counts()"
   ]
  },
  {
   "cell_type": "code",
   "execution_count": 336,
   "metadata": {},
   "outputs": [],
   "source": [
    "new_df0 = new_df.loc[new_df['classification'] == 0]\n",
    "new_df0 = new_df0.sample(92)\n",
    "new_df = new_df.drop(new_df0.index)"
   ]
  },
  {
   "cell_type": "code",
   "execution_count": null,
   "metadata": {},
   "outputs": [],
   "source": [
    "new_df0 = new_df.loc[new_df['classification'] == 6]\n",
    "new_df0 = new_df0.sample(24)\n",
    "new_df = new_df.drop(new_df0.index)"
   ]
  },
  {
   "cell_type": "code",
   "execution_count": null,
   "metadata": {},
   "outputs": [],
   "source": [
    "new_df0 = new_df.loc[new_df['classification'] == 5]\n",
    "new_df0 = new_df0.sample(12)\n",
    "new_df = new_df.drop(new_df0.index)"
   ]
  },
  {
   "cell_type": "code",
   "execution_count": 337,
   "metadata": {},
   "outputs": [
    {
     "data": {
      "text/plain": [
       "0    20\n",
       "4     4\n",
       "3     4\n",
       "2     4\n",
       "1     4\n",
       "Name: classification, dtype: int64"
      ]
     },
     "execution_count": 337,
     "metadata": {},
     "output_type": "execute_result"
    }
   ],
   "source": [
    "new_df = new_df.reset_index(drop=True)\n",
    "new_df.classification.value_counts()"
   ]
  },
  {
   "cell_type": "markdown",
   "metadata": {},
   "source": [
    "### Divisão dos dados em treino e teste\n",
    "\n",
    "Utilização de `StratifiedShuffleSplit` para a divisão do dataset."
   ]
  },
  {
   "cell_type": "code",
   "execution_count": 338,
   "metadata": {},
   "outputs": [],
   "source": [
    "feature_cols = [x for x in new_df.columns if x not in 'classification']\n",
    "\n",
    "sss = StratifiedShuffleSplit(n_splits=1, test_size=0.25)\n",
    "\n",
    "train_idx, test_idx = next(sss.split(new_df[feature_cols], new_df['classification']))"
   ]
  },
  {
   "cell_type": "code",
   "execution_count": 339,
   "metadata": {},
   "outputs": [],
   "source": [
    "X_train = new_df.loc[train_idx, feature_cols]\n",
    "y_train = new_df.loc[train_idx, 'classification']\n",
    "\n",
    "X_test = new_df.loc[test_idx, feature_cols]\n",
    "y_test = new_df.loc[test_idx, 'classification']"
   ]
  },
  {
   "cell_type": "markdown",
   "metadata": {},
   "source": [
    "## Testes com modelos de ML\n",
    "### Regressão Logística"
   ]
  },
  {
   "cell_type": "code",
   "execution_count": 274,
   "metadata": {},
   "outputs": [
    {
     "name": "stdout",
     "output_type": "stream",
     "text": [
      "F-score:  0.5555555555555556\n",
      "Acurácia:  0.5555555555555556\n"
     ]
    }
   ],
   "source": [
    "lr = LogisticRegression()\n",
    "lr.fit(X_train,y_train)\n",
    "\n",
    "y_pred = lr.predict(X_test)\n",
    "\n",
    "print(\"F-score: \", f1_score(y_pred, y_test, average='micro'))\n",
    "print(\"Acurácia: \", accuracy_score(y_pred,y_test))"
   ]
  },
  {
   "cell_type": "code",
   "execution_count": 275,
   "metadata": {},
   "outputs": [
    {
     "data": {
      "text/plain": [
       "array([0, 1, 0, 1, 0, 0, 1, 0, 0])"
      ]
     },
     "execution_count": 275,
     "metadata": {},
     "output_type": "execute_result"
    }
   ],
   "source": [
    "y_pred"
   ]
  },
  {
   "cell_type": "markdown",
   "metadata": {},
   "source": [
    "### Máquinas de Vetores de Suporte"
   ]
  },
  {
   "cell_type": "code",
   "execution_count": 276,
   "metadata": {},
   "outputs": [
    {
     "name": "stdout",
     "output_type": "stream",
     "text": [
      "F-score:  0.6666666666666666\n",
      "Acurácia:  0.6666666666666666\n"
     ]
    }
   ],
   "source": [
    "svc = SVC()\n",
    "svc.fit(X_train,y_train)\n",
    "\n",
    "y_pred = svc.predict(X_test)\n",
    "\n",
    "print(\"F-score: \", f1_score(y_pred, y_test, average='micro'))\n",
    "print(\"Acurácia: \", accuracy_score(y_pred,y_test))"
   ]
  },
  {
   "cell_type": "code",
   "execution_count": 277,
   "metadata": {},
   "outputs": [
    {
     "data": {
      "text/plain": [
       "array([0, 0, 0, 1, 0, 0, 0, 0, 0])"
      ]
     },
     "execution_count": 277,
     "metadata": {},
     "output_type": "execute_result"
    }
   ],
   "source": [
    "y_pred"
   ]
  },
  {
   "cell_type": "markdown",
   "metadata": {},
   "source": [
    "### Redes Neurais"
   ]
  },
  {
   "cell_type": "code",
   "execution_count": 278,
   "metadata": {},
   "outputs": [
    {
     "name": "stdout",
     "output_type": "stream",
     "text": [
      "F-score:  0.6666666666666666\n",
      "Acurácia:  0.6666666666666666\n"
     ]
    }
   ],
   "source": [
    "mlp = MLPClassifier(hidden_layer_sizes=(3,2), activation='identity', solver='lbfgs')\n",
    "mlp.fit(X_train,y_train)\n",
    "\n",
    "y_pred = mlp.predict(X_test)\n",
    "\n",
    "#print(cross_val_score(mlp,X,y,cv=sss))\n",
    "\n",
    "print(\"F-score: \", f1_score(y_pred, y_test, average='micro'))\n",
    "print(\"Acurácia: \", accuracy_score(y_pred,y_test))"
   ]
  },
  {
   "cell_type": "code",
   "execution_count": 279,
   "metadata": {},
   "outputs": [
    {
     "data": {
      "text/plain": [
       "array([0, 3, 2, 1, 0, 0, 0, 0, 3])"
      ]
     },
     "execution_count": 279,
     "metadata": {},
     "output_type": "execute_result"
    }
   ],
   "source": [
    "y_pred"
   ]
  },
  {
   "cell_type": "code",
   "execution_count": 280,
   "metadata": {},
   "outputs": [
    {
     "name": "stderr",
     "output_type": "stream",
     "text": [
      "/media/wenneton/Data/Programas/anaconda3/lib/python3.6/site-packages/sklearn/neural_network/multilayer_perceptron.py:564: ConvergenceWarning: Stochastic Optimizer: Maximum iterations (2000) reached and the optimization hasn't converged yet.\n",
      "  % self.max_iter, ConvergenceWarning)\n",
      "/media/wenneton/Data/Programas/anaconda3/lib/python3.6/site-packages/sklearn/neural_network/multilayer_perceptron.py:564: ConvergenceWarning: Stochastic Optimizer: Maximum iterations (2000) reached and the optimization hasn't converged yet.\n",
      "  % self.max_iter, ConvergenceWarning)\n",
      "/media/wenneton/Data/Programas/anaconda3/lib/python3.6/site-packages/sklearn/neural_network/multilayer_perceptron.py:564: ConvergenceWarning: Stochastic Optimizer: Maximum iterations (2000) reached and the optimization hasn't converged yet.\n",
      "  % self.max_iter, ConvergenceWarning)\n"
     ]
    }
   ],
   "source": [
    "#GridSearchCV\n",
    "params = {'hidden_layer_sizes': [(3,2)],\n",
    "          'activation':['identity', 'relu'],\n",
    "          'solver': ['adam', 'lbfgs'],\n",
    "          'max_iter': [2000]}\n",
    "\n",
    "mlp = MLPClassifier()\n",
    "gs = GridSearchCV(mlp, params, n_jobs=-1, scoring='f1_micro')\n",
    "\n",
    "gs.fit(X_train, y_train)\n",
    "\n",
    "best_model = gs.best_estimator_\n"
   ]
  },
  {
   "cell_type": "code",
   "execution_count": 281,
   "metadata": {},
   "outputs": [
    {
     "data": {
      "text/plain": [
       "array([0.55555556, 0.51851852, 0.51851852, 0.55555556])"
      ]
     },
     "execution_count": 281,
     "metadata": {},
     "output_type": "execute_result"
    }
   ],
   "source": [
    "gs.cv_results_['mean_test_score']"
   ]
  },
  {
   "cell_type": "markdown",
   "metadata": {},
   "source": [
    "### Bagging"
   ]
  },
  {
   "cell_type": "code",
   "execution_count": 298,
   "metadata": {},
   "outputs": [
    {
     "name": "stdout",
     "output_type": "stream",
     "text": [
      "F-score:  0.4444444444444444\n",
      "Acurácia:  0.4444444444444444\n"
     ]
    }
   ],
   "source": [
    "bc = BaggingClassifier(n_estimators=500)\n",
    "\n",
    "bc.fit(X_train,y_train)\n",
    "\n",
    "y_pred = bc.predict(X_test)\n",
    "\n",
    "print(\"F-score: \", f1_score(y_pred, y_test, average='micro'))\n",
    "print(\"Acurácia: \", accuracy_score(y_pred,y_test))"
   ]
  },
  {
   "cell_type": "code",
   "execution_count": 299,
   "metadata": {},
   "outputs": [
    {
     "data": {
      "text/plain": [
       "array([3, 3, 1, 0, 0, 2, 4, 0, 4])"
      ]
     },
     "execution_count": 299,
     "metadata": {},
     "output_type": "execute_result"
    }
   ],
   "source": [
    "y_pred"
   ]
  },
  {
   "cell_type": "code",
   "execution_count": 300,
   "metadata": {},
   "outputs": [
    {
     "data": {
      "text/plain": [
       "array([0, 3, 1, 0, 0, 0, 2, 4, 0])"
      ]
     },
     "execution_count": 300,
     "metadata": {},
     "output_type": "execute_result"
    }
   ],
   "source": [
    "np.array(y_test)"
   ]
  },
  {
   "cell_type": "code",
   "execution_count": 289,
   "metadata": {},
   "outputs": [
    {
     "data": {
      "text/html": [
       "<div>\n",
       "<style scoped>\n",
       "    .dataframe tbody tr th:only-of-type {\n",
       "        vertical-align: middle;\n",
       "    }\n",
       "\n",
       "    .dataframe tbody tr th {\n",
       "        vertical-align: top;\n",
       "    }\n",
       "\n",
       "    .dataframe thead th {\n",
       "        text-align: right;\n",
       "    }\n",
       "</style>\n",
       "<table border=\"1\" class=\"dataframe\">\n",
       "  <thead>\n",
       "    <tr style=\"text-align: right;\">\n",
       "      <th></th>\n",
       "      <th>jan</th>\n",
       "      <th>feb</th>\n",
       "      <th>mar</th>\n",
       "      <th>apr</th>\n",
       "      <th>may</th>\n",
       "    </tr>\n",
       "  </thead>\n",
       "  <tbody>\n",
       "    <tr>\n",
       "      <th>7</th>\n",
       "      <td>0.714255</td>\n",
       "      <td>0.801098</td>\n",
       "      <td>0.804446</td>\n",
       "      <td>0.835152</td>\n",
       "      <td>0.902181</td>\n",
       "    </tr>\n",
       "    <tr>\n",
       "      <th>25</th>\n",
       "      <td>1.338899</td>\n",
       "      <td>1.275136</td>\n",
       "      <td>1.260623</td>\n",
       "      <td>1.023761</td>\n",
       "      <td>1.024657</td>\n",
       "    </tr>\n",
       "    <tr>\n",
       "      <th>33</th>\n",
       "      <td>-0.448348</td>\n",
       "      <td>-0.917788</td>\n",
       "      <td>-0.894197</td>\n",
       "      <td>-0.926965</td>\n",
       "      <td>-0.935350</td>\n",
       "    </tr>\n",
       "    <tr>\n",
       "      <th>24</th>\n",
       "      <td>1.638263</td>\n",
       "      <td>1.522995</td>\n",
       "      <td>1.695854</td>\n",
       "      <td>1.726191</td>\n",
       "      <td>1.707498</td>\n",
       "    </tr>\n",
       "    <tr>\n",
       "      <th>32</th>\n",
       "      <td>-0.363453</td>\n",
       "      <td>-0.375859</td>\n",
       "      <td>-0.211482</td>\n",
       "      <td>-0.122978</td>\n",
       "      <td>-0.134487</td>\n",
       "    </tr>\n",
       "    <tr>\n",
       "      <th>20</th>\n",
       "      <td>-0.051424</td>\n",
       "      <td>-0.001074</td>\n",
       "      <td>-0.061901</td>\n",
       "      <td>-0.019859</td>\n",
       "      <td>-0.028148</td>\n",
       "    </tr>\n",
       "    <tr>\n",
       "      <th>26</th>\n",
       "      <td>0.985918</td>\n",
       "      <td>1.123900</td>\n",
       "      <td>1.111279</td>\n",
       "      <td>1.324198</td>\n",
       "      <td>1.307066</td>\n",
       "    </tr>\n",
       "    <tr>\n",
       "      <th>9</th>\n",
       "      <td>-0.903456</td>\n",
       "      <td>-0.880481</td>\n",
       "      <td>-0.874786</td>\n",
       "      <td>-0.842064</td>\n",
       "      <td>-0.831514</td>\n",
       "    </tr>\n",
       "    <tr>\n",
       "      <th>28</th>\n",
       "      <td>0.691022</td>\n",
       "      <td>0.716402</td>\n",
       "      <td>0.590709</td>\n",
       "      <td>0.147838</td>\n",
       "      <td>0.135277</td>\n",
       "    </tr>\n",
       "  </tbody>\n",
       "</table>\n",
       "</div>"
      ],
      "text/plain": [
       "         jan       feb       mar       apr       may\n",
       "7   0.714255  0.801098  0.804446  0.835152  0.902181\n",
       "25  1.338899  1.275136  1.260623  1.023761  1.024657\n",
       "33 -0.448348 -0.917788 -0.894197 -0.926965 -0.935350\n",
       "24  1.638263  1.522995  1.695854  1.726191  1.707498\n",
       "32 -0.363453 -0.375859 -0.211482 -0.122978 -0.134487\n",
       "20 -0.051424 -0.001074 -0.061901 -0.019859 -0.028148\n",
       "26  0.985918  1.123900  1.111279  1.324198  1.307066\n",
       "9  -0.903456 -0.880481 -0.874786 -0.842064 -0.831514\n",
       "28  0.691022  0.716402  0.590709  0.147838  0.135277"
      ]
     },
     "execution_count": 289,
     "metadata": {},
     "output_type": "execute_result"
    }
   ],
   "source": [
    "X_test"
   ]
  },
  {
   "cell_type": "code",
   "execution_count": 304,
   "metadata": {},
   "outputs": [
    {
     "name": "stdout",
     "output_type": "stream",
     "text": [
      "F-score:  0.6666666666666666\n",
      "Acurácia:  0.6666666666666666\n"
     ]
    }
   ],
   "source": [
    "from sklearn.naive_bayes import GaussianNB\n",
    "\n",
    "nb = GaussianNB()\n",
    "\n",
    "nb.fit(X_train, y_train)\n",
    "\n",
    "y_pred = nb.predict(X_test)\n",
    "\n",
    "print(\"F-score: \", f1_score(y_pred, y_test, average='micro'))\n",
    "print(\"Acurácia: \", accuracy_score(y_pred,y_test))"
   ]
  },
  {
   "cell_type": "code",
   "execution_count": 305,
   "metadata": {},
   "outputs": [
    {
     "data": {
      "text/plain": [
       "array([0, 3, 1, 0, 0, 2, 2, 2, 2])"
      ]
     },
     "execution_count": 305,
     "metadata": {},
     "output_type": "execute_result"
    }
   ],
   "source": [
    "y_pred"
   ]
  },
  {
   "cell_type": "code",
   "execution_count": 306,
   "metadata": {},
   "outputs": [
    {
     "data": {
      "text/plain": [
       "array([0, 3, 1, 0, 0, 0, 2, 4, 0])"
      ]
     },
     "execution_count": 306,
     "metadata": {},
     "output_type": "execute_result"
    }
   ],
   "source": [
    "np.array(y_test)"
   ]
  },
  {
   "cell_type": "code",
   "execution_count": 315,
   "metadata": {},
   "outputs": [
    {
     "data": {
      "text/html": [
       "<div>\n",
       "<style scoped>\n",
       "    .dataframe tbody tr th:only-of-type {\n",
       "        vertical-align: middle;\n",
       "    }\n",
       "\n",
       "    .dataframe tbody tr th {\n",
       "        vertical-align: top;\n",
       "    }\n",
       "\n",
       "    .dataframe thead th {\n",
       "        text-align: right;\n",
       "    }\n",
       "</style>\n",
       "<table border=\"1\" class=\"dataframe\">\n",
       "  <thead>\n",
       "    <tr style=\"text-align: right;\">\n",
       "      <th></th>\n",
       "      <th>country</th>\n",
       "      <th>jan</th>\n",
       "      <th>feb</th>\n",
       "      <th>mar</th>\n",
       "      <th>apr</th>\n",
       "      <th>may</th>\n",
       "    </tr>\n",
       "  </thead>\n",
       "  <tbody>\n",
       "    <tr>\n",
       "      <th>0</th>\n",
       "      <td>Germany</td>\n",
       "      <td>1602</td>\n",
       "      <td>1602</td>\n",
       "      <td>1609</td>\n",
       "      <td>1533</td>\n",
       "      <td>1558</td>\n",
       "    </tr>\n",
       "    <tr>\n",
       "      <th>1</th>\n",
       "      <td>Brazil</td>\n",
       "      <td>1483</td>\n",
       "      <td>1484</td>\n",
       "      <td>1489</td>\n",
       "      <td>1384</td>\n",
       "      <td>1431</td>\n",
       "    </tr>\n",
       "    <tr>\n",
       "      <th>2</th>\n",
       "      <td>Portugal</td>\n",
       "      <td>1358</td>\n",
       "      <td>1358</td>\n",
       "      <td>1360</td>\n",
       "      <td>1306</td>\n",
       "      <td>1274</td>\n",
       "    </tr>\n",
       "    <tr>\n",
       "      <th>3</th>\n",
       "      <td>Argentina</td>\n",
       "      <td>1348</td>\n",
       "      <td>1348</td>\n",
       "      <td>1359</td>\n",
       "      <td>1254</td>\n",
       "      <td>1241</td>\n",
       "    </tr>\n",
       "    <tr>\n",
       "      <th>4</th>\n",
       "      <td>Belgium</td>\n",
       "      <td>1325</td>\n",
       "      <td>1325</td>\n",
       "      <td>1337</td>\n",
       "      <td>1346</td>\n",
       "      <td>1298</td>\n",
       "    </tr>\n",
       "  </tbody>\n",
       "</table>\n",
       "</div>"
      ],
      "text/plain": [
       "     country   jan   feb   mar   apr   may\n",
       "0    Germany  1602  1602  1609  1533  1558\n",
       "1     Brazil  1483  1484  1489  1384  1431\n",
       "2   Portugal  1358  1358  1360  1306  1274\n",
       "3  Argentina  1348  1348  1359  1254  1241\n",
       "4    Belgium  1325  1325  1337  1346  1298"
      ]
     },
     "execution_count": 315,
     "metadata": {},
     "output_type": "execute_result"
    }
   ],
   "source": [
    "df2018 = pd.read_csv(\"dataset_rank_fifa_2018.csv\")\n",
    "df2018.head()"
   ]
  },
  {
   "cell_type": "code",
   "execution_count": 316,
   "metadata": {},
   "outputs": [],
   "source": [
    "df2018_predict = df2018.drop('country', axis=1)\n",
    "df2018_predict = pd.DataFrame(StandardScaler().fit_transform(df2018_predict),\n",
    "                              index=df2018_predict.index, columns=df2018_predict.columns)"
   ]
  },
  {
   "cell_type": "code",
   "execution_count": 329,
   "metadata": {},
   "outputs": [
    {
     "data": {
      "text/html": [
       "<div>\n",
       "<style scoped>\n",
       "    .dataframe tbody tr th:only-of-type {\n",
       "        vertical-align: middle;\n",
       "    }\n",
       "\n",
       "    .dataframe tbody tr th {\n",
       "        vertical-align: top;\n",
       "    }\n",
       "\n",
       "    .dataframe thead th {\n",
       "        text-align: right;\n",
       "    }\n",
       "</style>\n",
       "<table border=\"1\" class=\"dataframe\">\n",
       "  <thead>\n",
       "    <tr style=\"text-align: right;\">\n",
       "      <th></th>\n",
       "      <th>jan</th>\n",
       "      <th>feb</th>\n",
       "      <th>mar</th>\n",
       "      <th>apr</th>\n",
       "      <th>may</th>\n",
       "    </tr>\n",
       "  </thead>\n",
       "  <tbody>\n",
       "    <tr>\n",
       "      <th>0</th>\n",
       "      <td>2.245093</td>\n",
       "      <td>2.189513</td>\n",
       "      <td>2.174015</td>\n",
       "      <td>2.138280</td>\n",
       "      <td>2.221156</td>\n",
       "    </tr>\n",
       "    <tr>\n",
       "      <th>1</th>\n",
       "      <td>1.807879</td>\n",
       "      <td>1.770970</td>\n",
       "      <td>1.753806</td>\n",
       "      <td>1.596615</td>\n",
       "      <td>1.760278</td>\n",
       "    </tr>\n",
       "    <tr>\n",
       "      <th>2</th>\n",
       "      <td>1.348620</td>\n",
       "      <td>1.324051</td>\n",
       "      <td>1.302082</td>\n",
       "      <td>1.313059</td>\n",
       "      <td>1.190532</td>\n",
       "    </tr>\n",
       "    <tr>\n",
       "      <th>3</th>\n",
       "      <td>1.311880</td>\n",
       "      <td>1.288581</td>\n",
       "      <td>1.298580</td>\n",
       "      <td>1.124022</td>\n",
       "      <td>1.070777</td>\n",
       "    </tr>\n",
       "    <tr>\n",
       "      <th>4</th>\n",
       "      <td>1.227376</td>\n",
       "      <td>1.207001</td>\n",
       "      <td>1.221542</td>\n",
       "      <td>1.458473</td>\n",
       "      <td>1.277627</td>\n",
       "    </tr>\n",
       "    <tr>\n",
       "      <th>5</th>\n",
       "      <td>0.882013</td>\n",
       "      <td>0.873585</td>\n",
       "      <td>0.839852</td>\n",
       "      <td>0.789571</td>\n",
       "      <td>0.653446</td>\n",
       "    </tr>\n",
       "    <tr>\n",
       "      <th>6</th>\n",
       "      <td>0.801184</td>\n",
       "      <td>0.809740</td>\n",
       "      <td>0.839852</td>\n",
       "      <td>0.629616</td>\n",
       "      <td>0.860297</td>\n",
       "    </tr>\n",
       "    <tr>\n",
       "      <th>7</th>\n",
       "      <td>0.731377</td>\n",
       "      <td>0.728159</td>\n",
       "      <td>0.731299</td>\n",
       "      <td>0.851372</td>\n",
       "      <td>0.918360</td>\n",
       "    </tr>\n",
       "    <tr>\n",
       "      <th>8</th>\n",
       "      <td>0.705658</td>\n",
       "      <td>0.703331</td>\n",
       "      <td>0.689278</td>\n",
       "      <td>0.804112</td>\n",
       "      <td>0.914731</td>\n",
       "    </tr>\n",
       "    <tr>\n",
       "      <th>9</th>\n",
       "      <td>0.503584</td>\n",
       "      <td>0.508247</td>\n",
       "      <td>0.489679</td>\n",
       "      <td>0.585992</td>\n",
       "      <td>0.649818</td>\n",
       "    </tr>\n",
       "    <tr>\n",
       "      <th>10</th>\n",
       "      <td>0.397036</td>\n",
       "      <td>0.405385</td>\n",
       "      <td>0.419644</td>\n",
       "      <td>0.396955</td>\n",
       "      <td>0.381275</td>\n",
       "    </tr>\n",
       "    <tr>\n",
       "      <th>11</th>\n",
       "      <td>0.319881</td>\n",
       "      <td>0.391197</td>\n",
       "      <td>0.412640</td>\n",
       "      <td>0.160658</td>\n",
       "      <td>0.145392</td>\n",
       "    </tr>\n",
       "    <tr>\n",
       "      <th>12</th>\n",
       "      <td>0.209659</td>\n",
       "      <td>0.224489</td>\n",
       "      <td>0.227048</td>\n",
       "      <td>0.109764</td>\n",
       "      <td>-0.003395</td>\n",
       "    </tr>\n",
       "    <tr>\n",
       "      <th>13</th>\n",
       "      <td>0.205985</td>\n",
       "      <td>0.220942</td>\n",
       "      <td>0.206038</td>\n",
       "      <td>0.346060</td>\n",
       "      <td>0.381275</td>\n",
       "    </tr>\n",
       "    <tr>\n",
       "      <th>14</th>\n",
       "      <td>0.150874</td>\n",
       "      <td>0.174831</td>\n",
       "      <td>0.174522</td>\n",
       "      <td>0.229730</td>\n",
       "      <td>0.156279</td>\n",
       "    </tr>\n",
       "    <tr>\n",
       "      <th>15</th>\n",
       "      <td>0.033304</td>\n",
       "      <td>0.040046</td>\n",
       "      <td>0.048460</td>\n",
       "      <td>-0.202875</td>\n",
       "      <td>-0.239277</td>\n",
       "    </tr>\n",
       "    <tr>\n",
       "      <th>16</th>\n",
       "      <td>-0.117333</td>\n",
       "      <td>0.114533</td>\n",
       "      <td>0.132501</td>\n",
       "      <td>-0.053826</td>\n",
       "      <td>-0.137666</td>\n",
       "    </tr>\n",
       "    <tr>\n",
       "      <th>17</th>\n",
       "      <td>-0.245926</td>\n",
       "      <td>-0.215336</td>\n",
       "      <td>-0.200164</td>\n",
       "      <td>0.113399</td>\n",
       "      <td>0.261519</td>\n",
       "    </tr>\n",
       "    <tr>\n",
       "      <th>18</th>\n",
       "      <td>-0.278992</td>\n",
       "      <td>-0.250805</td>\n",
       "      <td>-0.238683</td>\n",
       "      <td>0.244271</td>\n",
       "      <td>-0.130408</td>\n",
       "    </tr>\n",
       "    <tr>\n",
       "      <th>19</th>\n",
       "      <td>-0.425955</td>\n",
       "      <td>-0.460077</td>\n",
       "      <td>-0.441784</td>\n",
       "      <td>-0.435536</td>\n",
       "      <td>-0.391693</td>\n",
       "    </tr>\n",
       "    <tr>\n",
       "      <th>20</th>\n",
       "      <td>-0.587614</td>\n",
       "      <td>-0.413966</td>\n",
       "      <td>-0.406766</td>\n",
       "      <td>-0.315570</td>\n",
       "      <td>-0.224761</td>\n",
       "    </tr>\n",
       "    <tr>\n",
       "      <th>21</th>\n",
       "      <td>-0.650073</td>\n",
       "      <td>-1.070156</td>\n",
       "      <td>-1.054588</td>\n",
       "      <td>-1.122615</td>\n",
       "      <td>-1.077566</td>\n",
       "    </tr>\n",
       "    <tr>\n",
       "      <th>22</th>\n",
       "      <td>-0.712532</td>\n",
       "      <td>-0.690630</td>\n",
       "      <td>-0.686906</td>\n",
       "      <td>-0.791799</td>\n",
       "      <td>-0.863458</td>\n",
       "    </tr>\n",
       "    <tr>\n",
       "      <th>23</th>\n",
       "      <td>-0.837451</td>\n",
       "      <td>-0.878620</td>\n",
       "      <td>-0.868996</td>\n",
       "      <td>-0.889953</td>\n",
       "      <td>-0.827168</td>\n",
       "    </tr>\n",
       "    <tr>\n",
       "      <th>24</th>\n",
       "      <td>-0.863169</td>\n",
       "      <td>-0.711912</td>\n",
       "      <td>-0.728926</td>\n",
       "      <td>-0.773623</td>\n",
       "      <td>-0.707413</td>\n",
       "    </tr>\n",
       "    <tr>\n",
       "      <th>25</th>\n",
       "      <td>-0.892562</td>\n",
       "      <td>-1.038234</td>\n",
       "      <td>-1.030076</td>\n",
       "      <td>-0.959025</td>\n",
       "      <td>-0.943295</td>\n",
       "    </tr>\n",
       "    <tr>\n",
       "      <th>26</th>\n",
       "      <td>-1.248946</td>\n",
       "      <td>-1.343273</td>\n",
       "      <td>-1.327724</td>\n",
       "      <td>-1.126250</td>\n",
       "      <td>-1.190064</td>\n",
       "    </tr>\n",
       "    <tr>\n",
       "      <th>27</th>\n",
       "      <td>-1.304057</td>\n",
       "      <td>-1.350367</td>\n",
       "      <td>-1.341731</td>\n",
       "      <td>-1.344370</td>\n",
       "      <td>-1.360625</td>\n",
       "    </tr>\n",
       "    <tr>\n",
       "      <th>28</th>\n",
       "      <td>-1.550220</td>\n",
       "      <td>-1.520622</td>\n",
       "      <td>-1.520319</td>\n",
       "      <td>-1.544313</td>\n",
       "      <td>-1.458607</td>\n",
       "    </tr>\n",
       "    <tr>\n",
       "      <th>29</th>\n",
       "      <td>-1.443672</td>\n",
       "      <td>-1.389384</td>\n",
       "      <td>-1.383751</td>\n",
       "      <td>-1.515231</td>\n",
       "      <td>-1.542073</td>\n",
       "    </tr>\n",
       "    <tr>\n",
       "      <th>30</th>\n",
       "      <td>-1.722901</td>\n",
       "      <td>-1.641219</td>\n",
       "      <td>-1.730424</td>\n",
       "      <td>-1.816964</td>\n",
       "      <td>-1.745294</td>\n",
       "    </tr>\n",
       "  </tbody>\n",
       "</table>\n",
       "</div>"
      ],
      "text/plain": [
       "         jan       feb       mar       apr       may\n",
       "0   2.245093  2.189513  2.174015  2.138280  2.221156\n",
       "1   1.807879  1.770970  1.753806  1.596615  1.760278\n",
       "2   1.348620  1.324051  1.302082  1.313059  1.190532\n",
       "3   1.311880  1.288581  1.298580  1.124022  1.070777\n",
       "4   1.227376  1.207001  1.221542  1.458473  1.277627\n",
       "5   0.882013  0.873585  0.839852  0.789571  0.653446\n",
       "6   0.801184  0.809740  0.839852  0.629616  0.860297\n",
       "7   0.731377  0.728159  0.731299  0.851372  0.918360\n",
       "8   0.705658  0.703331  0.689278  0.804112  0.914731\n",
       "9   0.503584  0.508247  0.489679  0.585992  0.649818\n",
       "10  0.397036  0.405385  0.419644  0.396955  0.381275\n",
       "11  0.319881  0.391197  0.412640  0.160658  0.145392\n",
       "12  0.209659  0.224489  0.227048  0.109764 -0.003395\n",
       "13  0.205985  0.220942  0.206038  0.346060  0.381275\n",
       "14  0.150874  0.174831  0.174522  0.229730  0.156279\n",
       "15  0.033304  0.040046  0.048460 -0.202875 -0.239277\n",
       "16 -0.117333  0.114533  0.132501 -0.053826 -0.137666\n",
       "17 -0.245926 -0.215336 -0.200164  0.113399  0.261519\n",
       "18 -0.278992 -0.250805 -0.238683  0.244271 -0.130408\n",
       "19 -0.425955 -0.460077 -0.441784 -0.435536 -0.391693\n",
       "20 -0.587614 -0.413966 -0.406766 -0.315570 -0.224761\n",
       "21 -0.650073 -1.070156 -1.054588 -1.122615 -1.077566\n",
       "22 -0.712532 -0.690630 -0.686906 -0.791799 -0.863458\n",
       "23 -0.837451 -0.878620 -0.868996 -0.889953 -0.827168\n",
       "24 -0.863169 -0.711912 -0.728926 -0.773623 -0.707413\n",
       "25 -0.892562 -1.038234 -1.030076 -0.959025 -0.943295\n",
       "26 -1.248946 -1.343273 -1.327724 -1.126250 -1.190064\n",
       "27 -1.304057 -1.350367 -1.341731 -1.344370 -1.360625\n",
       "28 -1.550220 -1.520622 -1.520319 -1.544313 -1.458607\n",
       "29 -1.443672 -1.389384 -1.383751 -1.515231 -1.542073\n",
       "30 -1.722901 -1.641219 -1.730424 -1.816964 -1.745294"
      ]
     },
     "execution_count": 329,
     "metadata": {},
     "output_type": "execute_result"
    }
   ],
   "source": [
    "df2018_predict"
   ]
  },
  {
   "cell_type": "code",
   "execution_count": 340,
   "metadata": {},
   "outputs": [],
   "source": [
    "X = new_df.drop('classification', axis=1)\n",
    "y = new_df['classification']"
   ]
  },
  {
   "cell_type": "code",
   "execution_count": 341,
   "metadata": {},
   "outputs": [
    {
     "data": {
      "text/plain": [
       "array([0, 1, 2, 2, 2, 0, 0, 0, 0, 0, 0, 0, 0, 0, 0, 0, 0, 0, 0, 0, 0, 0,\n",
       "       0, 0, 0, 0, 4, 0, 0, 0, 0])"
      ]
     },
     "execution_count": 341,
     "metadata": {},
     "output_type": "execute_result"
    }
   ],
   "source": [
    "bc = BaggingClassifier(n_estimators=20)\n",
    "\n",
    "bc.fit(X,y)\n",
    "\n",
    "y_pred = bc.predict(df2018_predict)\n",
    "\n",
    "y_pred"
   ]
  },
  {
   "cell_type": "code",
   "execution_count": 342,
   "metadata": {},
   "outputs": [],
   "source": [
    "df2018['predict'] = y_pred"
   ]
  },
  {
   "cell_type": "code",
   "execution_count": 343,
   "metadata": {},
   "outputs": [
    {
     "data": {
      "text/html": [
       "<div>\n",
       "<style scoped>\n",
       "    .dataframe tbody tr th:only-of-type {\n",
       "        vertical-align: middle;\n",
       "    }\n",
       "\n",
       "    .dataframe tbody tr th {\n",
       "        vertical-align: top;\n",
       "    }\n",
       "\n",
       "    .dataframe thead th {\n",
       "        text-align: right;\n",
       "    }\n",
       "</style>\n",
       "<table border=\"1\" class=\"dataframe\">\n",
       "  <thead>\n",
       "    <tr style=\"text-align: right;\">\n",
       "      <th></th>\n",
       "      <th>country</th>\n",
       "      <th>jan</th>\n",
       "      <th>feb</th>\n",
       "      <th>mar</th>\n",
       "      <th>apr</th>\n",
       "      <th>may</th>\n",
       "      <th>predict</th>\n",
       "    </tr>\n",
       "  </thead>\n",
       "  <tbody>\n",
       "    <tr>\n",
       "      <th>0</th>\n",
       "      <td>Germany</td>\n",
       "      <td>1602</td>\n",
       "      <td>1602</td>\n",
       "      <td>1609</td>\n",
       "      <td>1533</td>\n",
       "      <td>1558</td>\n",
       "      <td>0</td>\n",
       "    </tr>\n",
       "    <tr>\n",
       "      <th>1</th>\n",
       "      <td>Brazil</td>\n",
       "      <td>1483</td>\n",
       "      <td>1484</td>\n",
       "      <td>1489</td>\n",
       "      <td>1384</td>\n",
       "      <td>1431</td>\n",
       "      <td>1</td>\n",
       "    </tr>\n",
       "    <tr>\n",
       "      <th>2</th>\n",
       "      <td>Portugal</td>\n",
       "      <td>1358</td>\n",
       "      <td>1358</td>\n",
       "      <td>1360</td>\n",
       "      <td>1306</td>\n",
       "      <td>1274</td>\n",
       "      <td>2</td>\n",
       "    </tr>\n",
       "    <tr>\n",
       "      <th>3</th>\n",
       "      <td>Argentina</td>\n",
       "      <td>1348</td>\n",
       "      <td>1348</td>\n",
       "      <td>1359</td>\n",
       "      <td>1254</td>\n",
       "      <td>1241</td>\n",
       "      <td>2</td>\n",
       "    </tr>\n",
       "    <tr>\n",
       "      <th>4</th>\n",
       "      <td>Belgium</td>\n",
       "      <td>1325</td>\n",
       "      <td>1325</td>\n",
       "      <td>1337</td>\n",
       "      <td>1346</td>\n",
       "      <td>1298</td>\n",
       "      <td>2</td>\n",
       "    </tr>\n",
       "    <tr>\n",
       "      <th>5</th>\n",
       "      <td>Spain</td>\n",
       "      <td>1231</td>\n",
       "      <td>1231</td>\n",
       "      <td>1228</td>\n",
       "      <td>1162</td>\n",
       "      <td>1126</td>\n",
       "      <td>0</td>\n",
       "    </tr>\n",
       "    <tr>\n",
       "      <th>6</th>\n",
       "      <td>Poland</td>\n",
       "      <td>1209</td>\n",
       "      <td>1213</td>\n",
       "      <td>1228</td>\n",
       "      <td>1118</td>\n",
       "      <td>1183</td>\n",
       "      <td>0</td>\n",
       "    </tr>\n",
       "    <tr>\n",
       "      <th>7</th>\n",
       "      <td>Switzerland</td>\n",
       "      <td>1190</td>\n",
       "      <td>1190</td>\n",
       "      <td>1197</td>\n",
       "      <td>1179</td>\n",
       "      <td>1199</td>\n",
       "      <td>0</td>\n",
       "    </tr>\n",
       "    <tr>\n",
       "      <th>8</th>\n",
       "      <td>France</td>\n",
       "      <td>1183</td>\n",
       "      <td>1183</td>\n",
       "      <td>1185</td>\n",
       "      <td>1166</td>\n",
       "      <td>1198</td>\n",
       "      <td>0</td>\n",
       "    </tr>\n",
       "    <tr>\n",
       "      <th>9</th>\n",
       "      <td>Peru</td>\n",
       "      <td>1128</td>\n",
       "      <td>1128</td>\n",
       "      <td>1128</td>\n",
       "      <td>1106</td>\n",
       "      <td>1125</td>\n",
       "      <td>0</td>\n",
       "    </tr>\n",
       "    <tr>\n",
       "      <th>10</th>\n",
       "      <td>Denmark</td>\n",
       "      <td>1099</td>\n",
       "      <td>1099</td>\n",
       "      <td>1108</td>\n",
       "      <td>1054</td>\n",
       "      <td>1051</td>\n",
       "      <td>0</td>\n",
       "    </tr>\n",
       "    <tr>\n",
       "      <th>11</th>\n",
       "      <td>Colombia</td>\n",
       "      <td>1078</td>\n",
       "      <td>1095</td>\n",
       "      <td>1106</td>\n",
       "      <td>989</td>\n",
       "      <td>986</td>\n",
       "      <td>0</td>\n",
       "    </tr>\n",
       "    <tr>\n",
       "      <th>12</th>\n",
       "      <td>Croatia</td>\n",
       "      <td>1048</td>\n",
       "      <td>1048</td>\n",
       "      <td>1053</td>\n",
       "      <td>975</td>\n",
       "      <td>945</td>\n",
       "      <td>0</td>\n",
       "    </tr>\n",
       "    <tr>\n",
       "      <th>13</th>\n",
       "      <td>England</td>\n",
       "      <td>1047</td>\n",
       "      <td>1047</td>\n",
       "      <td>1047</td>\n",
       "      <td>1040</td>\n",
       "      <td>1051</td>\n",
       "      <td>0</td>\n",
       "    </tr>\n",
       "    <tr>\n",
       "      <th>14</th>\n",
       "      <td>Mexico</td>\n",
       "      <td>1032</td>\n",
       "      <td>1034</td>\n",
       "      <td>1038</td>\n",
       "      <td>1008</td>\n",
       "      <td>989</td>\n",
       "      <td>0</td>\n",
       "    </tr>\n",
       "    <tr>\n",
       "      <th>15</th>\n",
       "      <td>Sweden</td>\n",
       "      <td>1000</td>\n",
       "      <td>996</td>\n",
       "      <td>1002</td>\n",
       "      <td>889</td>\n",
       "      <td>880</td>\n",
       "      <td>0</td>\n",
       "    </tr>\n",
       "    <tr>\n",
       "      <th>16</th>\n",
       "      <td>Iceland</td>\n",
       "      <td>959</td>\n",
       "      <td>1017</td>\n",
       "      <td>1026</td>\n",
       "      <td>930</td>\n",
       "      <td>908</td>\n",
       "      <td>0</td>\n",
       "    </tr>\n",
       "    <tr>\n",
       "      <th>17</th>\n",
       "      <td>Uruguay</td>\n",
       "      <td>924</td>\n",
       "      <td>924</td>\n",
       "      <td>931</td>\n",
       "      <td>976</td>\n",
       "      <td>1018</td>\n",
       "      <td>0</td>\n",
       "    </tr>\n",
       "    <tr>\n",
       "      <th>18</th>\n",
       "      <td>Tunisia</td>\n",
       "      <td>915</td>\n",
       "      <td>914</td>\n",
       "      <td>920</td>\n",
       "      <td>1012</td>\n",
       "      <td>910</td>\n",
       "      <td>0</td>\n",
       "    </tr>\n",
       "    <tr>\n",
       "      <th>19</th>\n",
       "      <td>Senegal</td>\n",
       "      <td>875</td>\n",
       "      <td>855</td>\n",
       "      <td>862</td>\n",
       "      <td>825</td>\n",
       "      <td>838</td>\n",
       "      <td>0</td>\n",
       "    </tr>\n",
       "    <tr>\n",
       "      <th>20</th>\n",
       "      <td>Costa Rica</td>\n",
       "      <td>831</td>\n",
       "      <td>868</td>\n",
       "      <td>872</td>\n",
       "      <td>858</td>\n",
       "      <td>884</td>\n",
       "      <td>0</td>\n",
       "    </tr>\n",
       "    <tr>\n",
       "      <th>21</th>\n",
       "      <td>Egypt</td>\n",
       "      <td>814</td>\n",
       "      <td>683</td>\n",
       "      <td>687</td>\n",
       "      <td>636</td>\n",
       "      <td>649</td>\n",
       "      <td>0</td>\n",
       "    </tr>\n",
       "    <tr>\n",
       "      <th>22</th>\n",
       "      <td>Iran</td>\n",
       "      <td>797</td>\n",
       "      <td>790</td>\n",
       "      <td>792</td>\n",
       "      <td>727</td>\n",
       "      <td>708</td>\n",
       "      <td>0</td>\n",
       "    </tr>\n",
       "    <tr>\n",
       "      <th>23</th>\n",
       "      <td>Australia</td>\n",
       "      <td>763</td>\n",
       "      <td>737</td>\n",
       "      <td>740</td>\n",
       "      <td>700</td>\n",
       "      <td>718</td>\n",
       "      <td>0</td>\n",
       "    </tr>\n",
       "    <tr>\n",
       "      <th>24</th>\n",
       "      <td>Serbia</td>\n",
       "      <td>756</td>\n",
       "      <td>784</td>\n",
       "      <td>780</td>\n",
       "      <td>732</td>\n",
       "      <td>751</td>\n",
       "      <td>0</td>\n",
       "    </tr>\n",
       "    <tr>\n",
       "      <th>25</th>\n",
       "      <td>Morocco</td>\n",
       "      <td>748</td>\n",
       "      <td>692</td>\n",
       "      <td>694</td>\n",
       "      <td>681</td>\n",
       "      <td>686</td>\n",
       "      <td>0</td>\n",
       "    </tr>\n",
       "    <tr>\n",
       "      <th>26</th>\n",
       "      <td>Nigeria</td>\n",
       "      <td>651</td>\n",
       "      <td>606</td>\n",
       "      <td>609</td>\n",
       "      <td>635</td>\n",
       "      <td>618</td>\n",
       "      <td>4</td>\n",
       "    </tr>\n",
       "    <tr>\n",
       "      <th>27</th>\n",
       "      <td>Panama</td>\n",
       "      <td>636</td>\n",
       "      <td>604</td>\n",
       "      <td>605</td>\n",
       "      <td>575</td>\n",
       "      <td>571</td>\n",
       "      <td>0</td>\n",
       "    </tr>\n",
       "    <tr>\n",
       "      <th>28</th>\n",
       "      <td>South Korea</td>\n",
       "      <td>569</td>\n",
       "      <td>556</td>\n",
       "      <td>554</td>\n",
       "      <td>520</td>\n",
       "      <td>544</td>\n",
       "      <td>0</td>\n",
       "    </tr>\n",
       "    <tr>\n",
       "      <th>29</th>\n",
       "      <td>Japan</td>\n",
       "      <td>598</td>\n",
       "      <td>593</td>\n",
       "      <td>593</td>\n",
       "      <td>528</td>\n",
       "      <td>521</td>\n",
       "      <td>0</td>\n",
       "    </tr>\n",
       "    <tr>\n",
       "      <th>30</th>\n",
       "      <td>Saudi Arabia</td>\n",
       "      <td>522</td>\n",
       "      <td>522</td>\n",
       "      <td>494</td>\n",
       "      <td>445</td>\n",
       "      <td>465</td>\n",
       "      <td>0</td>\n",
       "    </tr>\n",
       "  </tbody>\n",
       "</table>\n",
       "</div>"
      ],
      "text/plain": [
       "         country   jan   feb   mar   apr   may  predict\n",
       "0        Germany  1602  1602  1609  1533  1558        0\n",
       "1         Brazil  1483  1484  1489  1384  1431        1\n",
       "2       Portugal  1358  1358  1360  1306  1274        2\n",
       "3      Argentina  1348  1348  1359  1254  1241        2\n",
       "4        Belgium  1325  1325  1337  1346  1298        2\n",
       "5          Spain  1231  1231  1228  1162  1126        0\n",
       "6         Poland  1209  1213  1228  1118  1183        0\n",
       "7    Switzerland  1190  1190  1197  1179  1199        0\n",
       "8         France  1183  1183  1185  1166  1198        0\n",
       "9           Peru  1128  1128  1128  1106  1125        0\n",
       "10       Denmark  1099  1099  1108  1054  1051        0\n",
       "11      Colombia  1078  1095  1106   989   986        0\n",
       "12       Croatia  1048  1048  1053   975   945        0\n",
       "13       England  1047  1047  1047  1040  1051        0\n",
       "14        Mexico  1032  1034  1038  1008   989        0\n",
       "15        Sweden  1000   996  1002   889   880        0\n",
       "16       Iceland   959  1017  1026   930   908        0\n",
       "17       Uruguay   924   924   931   976  1018        0\n",
       "18       Tunisia   915   914   920  1012   910        0\n",
       "19       Senegal   875   855   862   825   838        0\n",
       "20    Costa Rica   831   868   872   858   884        0\n",
       "21         Egypt   814   683   687   636   649        0\n",
       "22          Iran   797   790   792   727   708        0\n",
       "23     Australia   763   737   740   700   718        0\n",
       "24        Serbia   756   784   780   732   751        0\n",
       "25       Morocco   748   692   694   681   686        0\n",
       "26       Nigeria   651   606   609   635   618        4\n",
       "27        Panama   636   604   605   575   571        0\n",
       "28   South Korea   569   556   554   520   544        0\n",
       "29         Japan   598   593   593   528   521        0\n",
       "30  Saudi Arabia   522   522   494   445   465        0"
      ]
     },
     "execution_count": 343,
     "metadata": {},
     "output_type": "execute_result"
    }
   ],
   "source": [
    "df2018"
   ]
  },
  {
   "cell_type": "code",
   "execution_count": null,
   "metadata": {},
   "outputs": [],
   "source": []
  }
 ],
 "metadata": {
  "kernelspec": {
   "display_name": "Python 3",
   "language": "python",
   "name": "python3"
  },
  "language_info": {
   "codemirror_mode": {
    "name": "ipython",
    "version": 3
   },
   "file_extension": ".py",
   "mimetype": "text/x-python",
   "name": "python",
   "nbconvert_exporter": "python",
   "pygments_lexer": "ipython3",
   "version": "3.6.4"
  }
 },
 "nbformat": 4,
 "nbformat_minor": 2
}
